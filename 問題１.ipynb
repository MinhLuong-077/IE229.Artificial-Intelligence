{
  "nbformat": 4,
  "nbformat_minor": 0,
  "metadata": {
    "colab": {
      "name": "問題１.ipynb",
      "provenance": [],
      "collapsed_sections": [],
      "machine_shape": "hm"
    },
    "kernelspec": {
      "name": "python3",
      "display_name": "Python 3"
    },
    "language_info": {
      "name": "python"
    },
    "accelerator": "GPU"
  },
  "cells": [
    {
      "cell_type": "markdown",
      "metadata": {
        "id": "BdoEyD_vXVaz"
      },
      "source": [
        "#問題1   \n",
        "CIFAR-10のデータセットに対してより高い精度を実現するプログラム(PyTorch)を作成せよ。ただし、プログラムは第10回の講義資料のプログラム(もしくはLab Work (4)で作成したプログラム)を改良して作成せよ。"
      ]
    },
    {
      "cell_type": "code",
      "metadata": {
        "id": "cicHD4JXOqvy"
      },
      "source": [
        "#ライブラリの読み込み\n",
        "import numpy as np\n",
        "import matplotlib.pyplot as plt\n",
        "import torch\n",
        "import torch.nn.functional as F\n",
        "import torchvision as tv\n",
        "import torch.nn as nn"
      ],
      "execution_count": null,
      "outputs": []
    },
    {
      "cell_type": "code",
      "metadata": {
        "colab": {
          "base_uri": "https://localhost:8080/"
        },
        "id": "nlGiyk9KGhEa",
        "outputId": "78a83c6a-00bc-4bb0-fcc2-5a03570c171c"
      },
      "source": [
        "#訓練データとテストデータの読み込み(初めて実行するときはデーをネットからダウンロードする)\n",
        "train_dataset = tv.datasets.CIFAR10(root=\"./\", train=True,transform=tv.transforms.ToTensor(),download=True) \n",
        "test_dataset = tv.datasets.CIFAR10(root=\"./\", train=False,transform=tv.transforms.ToTensor(),download=True)\n",
        "#訓練データとテストデー タのミニバッチ処理 ・ミニバッチサイズ=100 ・データの順番をシャッ フル\n",
        "train_loader = torch.utils.data.DataLoader(dataset=train_dataset, batch_size=100, shuffle=True)\n",
        "test_loader = torch.utils.data.DataLoader(dataset=test_dataset, batch_size=100, shuffle=False)"
      ],
      "execution_count": null,
      "outputs": [
        {
          "output_type": "stream",
          "text": [
            "Files already downloaded and verified\n",
            "Files already downloaded and verified\n"
          ],
          "name": "stdout"
        }
      ]
    },
    {
      "cell_type": "code",
      "metadata": {
        "id": "rkOkdoIdGhEc"
      },
      "source": [
        "# GPUが利用可能ならDEVICE=\"cuda\"\n",
        "# CPUを利用するのならDEVICE=\"cpu\"\n",
        "MODELNAME = 'CIFAR10_2D.model'\n",
        "EPOCH = 10\n",
        "DEVICE = 'cuda' if torch.cuda.is_available() else 'cpu'"
      ],
      "execution_count": null,
      "outputs": []
    },
    {
      "cell_type": "code",
      "metadata": {
        "id": "rJDUJKq7GhEc"
      },
      "source": [
        "class CIFAR10_2D(torch.nn.Module):\n",
        "    # __init__()関数でネットワークの要素を定義\n",
        "    def __init__(self):\n",
        "        super(CIFAR10_2D, self).__init__()\n",
        "        num_classes=10\n",
        "\n",
        "        self.block1_output = nn.Sequential (\n",
        "            nn.Conv2d(3, 64, kernel_size=3, padding=1),\n",
        "            nn.BatchNorm2d(64),\n",
        "            nn.ReLU(inplace=True),\n",
        "            nn.Conv2d(64, 64, kernel_size=3, padding=1),\n",
        "            nn.BatchNorm2d(64),\n",
        "            nn.ReLU(inplace=True),\n",
        "            nn.MaxPool2d(kernel_size=2, stride=2),\n",
        "        )\n",
        "\n",
        "        self.block2_output = nn.Sequential (\n",
        "            nn.Conv2d(64, 128, kernel_size=3, padding=1),\n",
        "            nn.BatchNorm2d(128),\n",
        "            nn.ReLU(inplace=True),\n",
        "            nn.Conv2d(128, 128, kernel_size=3, padding=1),\n",
        "            nn.BatchNorm2d(128),\n",
        "            nn.ReLU(inplace=True),\n",
        "            nn.MaxPool2d(kernel_size=2, stride=2),\n",
        "        )\n",
        "\n",
        "        self.block3_output = nn.Sequential (\n",
        "            nn.Conv2d(128, 256, kernel_size=3, padding=1),\n",
        "            nn.BatchNorm2d(256),\n",
        "            nn.ReLU(inplace=True),\n",
        "            nn.Conv2d(256, 256, kernel_size=3, padding=1),\n",
        "            nn.BatchNorm2d(256),\n",
        "            nn.ReLU(inplace=True),\n",
        "            nn.Conv2d(256, 256, kernel_size=3, padding=1),\n",
        "            nn.BatchNorm2d(256),\n",
        "            nn.ReLU(inplace=True),\n",
        "            nn.MaxPool2d(kernel_size=2, stride=2),\n",
        "        )\n",
        "\n",
        "        self.block4_output = nn.Sequential (\n",
        "            nn.Conv2d(256, 512, kernel_size=3, padding=1),\n",
        "            nn.BatchNorm2d(512),\n",
        "            nn.ReLU(inplace=True),\n",
        "            nn.Conv2d(512, 512, kernel_size=3, padding=1),\n",
        "            nn.BatchNorm2d(512),\n",
        "            nn.ReLU(inplace=True),\n",
        "            nn.Conv2d(512, 512, kernel_size=3, padding=1),\n",
        "            nn.BatchNorm2d(512),\n",
        "            nn.ReLU(inplace=True),\n",
        "            nn.MaxPool2d(kernel_size=2, stride=2),\n",
        "        )\n",
        "\n",
        "        self.block5_output = nn.Sequential (\n",
        "            nn.Conv2d(512, 512, kernel_size=3, padding=1),\n",
        "            nn.BatchNorm2d(512),\n",
        "            nn.ReLU(inplace=True),\n",
        "            nn.Conv2d(512, 512, kernel_size=3, padding=1),\n",
        "            nn.BatchNorm2d(512),\n",
        "            nn.ReLU(inplace=True),\n",
        "            nn.Conv2d(512, 512, kernel_size=3, padding=1),\n",
        "            nn.BatchNorm2d(512),\n",
        "            nn.ReLU(inplace=True),\n",
        "            nn.MaxPool2d(kernel_size=2, stride=2),\n",
        "        )\n",
        "\n",
        "        self.classifier = nn.Sequential(\n",
        "            nn.Linear(512, 512),  #512 * 7 * 7, 4096),\n",
        "            nn.ReLU(True),\n",
        "            nn.Dropout(),\n",
        "            nn.Linear(512, 32 ),  #4096, 4096),\n",
        "            nn.ReLU(True),\n",
        "            nn.Dropout(),\n",
        "            nn.Linear(32, num_classes),  #4096\n",
        "        )\n",
        "    # forward計算のときに forward()が呼ばれる。 同時にネットワークを構築\n",
        "    def forward(self, x):\n",
        "        x = self.block1_output(x)\n",
        "        x = self.block2_output(x)\n",
        "        x = self.block3_output(x)\n",
        "        x = self.block4_output(x)\n",
        "        x = self.block5_output(x)\n",
        "        #print(x.size())\n",
        "        x = x.view(x.size(0), -1)\n",
        "        x = self.classifier(x)\n",
        "        return x"
      ],
      "execution_count": null,
      "outputs": []
    },
    {
      "cell_type": "code",
      "metadata": {
        "id": "0WHbIAFHGhEc"
      },
      "source": [
        "def train_2D():\n",
        "    model = CIFAR10_2D().to(DEVICE)\n",
        "    optimizer = torch.optim.Adam(model.parameters(), lr = 0.0001)\n",
        "    for epoch in range(EPOCH):\n",
        "        loss =0 \n",
        "        # データをミニバッチサイズに切り出す\n",
        "        for images, labels in train_loader:\n",
        "            images = images.view(-1,3,32,32).to(DEVICE)\n",
        "            labels = labels.to(DEVICE)\n",
        "            optimizer.zero_grad()\n",
        "            y = model(images)\n",
        "            batchloss =F.cross_entropy(y, labels)\n",
        "            batchloss.backward()\n",
        "            optimizer.step()\n",
        "            loss = loss + batchloss.item()\n",
        "        print('epoch',epoch,': loss',loss)\n",
        "    #モデルをファイルに保存\n",
        "    torch.save(model.state_dict(),MODELNAME)"
      ],
      "execution_count": null,
      "outputs": []
    },
    {
      "cell_type": "code",
      "metadata": {
        "id": "q_Dhm-fAGhEd"
      },
      "source": [
        "def test_2D():\n",
        "    total = len(test_loader.dataset)\n",
        "    correct = 0\n",
        "    model = CIFAR10_2D().to('cpu')\n",
        "    model.load_state_dict(torch.load(MODELNAME))\n",
        "    model.eval()\n",
        "    # ファイルに保存したモデ ルをロード\n",
        "    for images, labels in test_loader:\n",
        "        images = images.view(-1,3,32,32).to('cpu')\n",
        "        y = model(images)\n",
        "        #最大値の次元IDを得る\n",
        "        pred_labels = y.max(dim=1)[1]\n",
        "        correct = correct + (pred_labels ==labels).sum()\n",
        "    print('correct:',correct.item())\n",
        "    print('total:',total)\n",
        "    #正解率を計算\n",
        "    print('accuracy:',(correct.item()/float(total)))"
      ],
      "execution_count": null,
      "outputs": []
    },
    {
      "cell_type": "code",
      "metadata": {
        "colab": {
          "base_uri": "https://localhost:8080/"
        },
        "id": "A_4vgF6bGhEd",
        "outputId": "f8e18185-ce0c-47dc-d608-b8930a9852b6"
      },
      "source": [
        "import time\n",
        "start = time.time()\n",
        "train_2D()\n",
        "print(\"Completed:\", time.time()-start)"
      ],
      "execution_count": null,
      "outputs": [
        {
          "output_type": "stream",
          "text": [
            "epoch 0 : loss 826.9031218290329\n",
            "epoch 1 : loss 574.3589366674423\n",
            "epoch 2 : loss 462.65993332862854\n",
            "epoch 3 : loss 379.2427268624306\n",
            "epoch 4 : loss 320.86059579253197\n",
            "epoch 5 : loss 271.0699910223484\n",
            "epoch 6 : loss 239.40734526515007\n",
            "epoch 7 : loss 203.13594709336758\n",
            "epoch 8 : loss 178.1977562904358\n",
            "epoch 9 : loss 154.8951351121068\n",
            "Completed: 1891.3484666347504\n"
          ],
          "name": "stdout"
        }
      ]
    },
    {
      "cell_type": "code",
      "metadata": {
        "colab": {
          "base_uri": "https://localhost:8080/"
        },
        "id": "CAWfnqDaGhEd",
        "outputId": "29d75bfc-bf8e-4795-c4ad-600322675697"
      },
      "source": [
        "test_2D()"
      ],
      "execution_count": null,
      "outputs": [
        {
          "output_type": "stream",
          "text": [
            "correct: 8097\n",
            "total: 10000\n",
            "accuracy: 0.8097\n"
          ],
          "name": "stdout"
        }
      ]
    }
  ]
}